{
 "cells": [
  {
   "cell_type": "markdown",
   "metadata": {},
   "source": [
    "# History of box plot\n",
    "\n",
    "A boxplot is a chart that graphically represents the five most important descriptive values for a data set.These values include the minimum value, the first quartile, the median, the third quartile, and the maximum value. A boxplot is a method for graphically depicting groups of numerical data through their quartiles.Quartiles divide the dataset into fourths [1].A boxplot is useful for revealing the central tendency and variability of a data set, the distribution of the data and the presence of outliers [2].\n",
    "\n",
    "The boxplot was created in 1970 by statistician John Wilder Tukey as part of his work on data analysis,but it did not become widely known until publication in 1977 of his book called \"Exploratory Data Analysis\" [3].\n",
    "\n",
    "The image below shows a boxplot and the key statistical measurese are:\n",
    "\n",
    "- Median (the line in the box)\n",
    "- Upper and Lower quartiles \n",
    "- Minimum and Maximum data points\n",
    "\n",
    "![boxplot](https://raw.githubusercontent.com/mikequaid/data/master/boxplot2.png)"
   ]
  },
  {
   "cell_type": "markdown",
   "metadata": {},
   "source": [
    "# Situations where the boxplot is used\n",
    "\n",
    "- Summarizing and visualising large quantities of information\n",
    "- Compare multiple data sets or to compare groups in a single data set, a standardized way of displaying the distribution of each data set\n",
    "- Display the range/spread of data and display key statistics  \n",
    "- Graphical display for describing the behavior of the data in the middle as well as at the ends of distributions\n",
    "\n",
    "\n",
    "Advantages of Boxplots [4]\n",
    "\n",
    "1. Graphically display a variable's location and spread at a glance,effective for a large amount of datapoints\n",
    "2. Provide some indication of the data's symmetry and skewness.\n",
    "3. Unlike many other methods of data display, boxplots show outliers.\n",
    "4. By using a boxplot for each categorical variable side-by-side on the same graph,one quickly can compare data sets.\n",
    "\n",
    "Disadvantages of Boxplots\n",
    "\n",
    "1. One drawback of boxplots is that they tend to emphasize the tails of a distribution,which are the least certain points in the data set. They also hide many of the details of the distribution (displaying a histogram in conjunction with the boxplot helps in this regard)"
   ]
  },
  {
   "cell_type": "markdown",
   "metadata": {},
   "source": [
    "# Examples of boxplots:"
   ]
  },
  {
   "cell_type": "markdown",
   "metadata": {},
   "source": [
    "## 1.The following shows four datasets,based on scores in the National Hurling League\n",
    "### The data points below are the total scores in each match of the Hurling League for the top four divisions (Divisions 1A, 1B, 2A, 2B).The total score is in points,that is 3 points for a goal.There were 6 teams in each division and a total of 15 games played in the group stage of each division (https://en.wikipedia.org/wiki/2018_National_Hurling_League)\n",
    "\n",
    "### The following are a number of key observations:\n",
    "- There was 1 significant outlier in third division (London v Kerry,high score)\n",
    "- There was 1 significant outlier in fourth division (Derry v Mayo,low score)\n",
    "- You would expect that the top 2 divisons would produce consistency between matches\n",
    " - Division 2 was the most competitive (lowest standard deviation @ 4)\n",
    " - There are no outliers\n",
    "- The third division has lowest scores,highlighted by the lowest median\n",
    "- The fourth division 4 is showing the least variability in scores when the one outlier is excluded,highlighted by the smallest box.\n",
    "- The fourth division 4 has a very different position for the median compared to the other divisions,this is due to repeat scores for 42 (twice) and 43 (four times) and low volume of data points in the analysis\n",
    "- Overall the boxplots are showing similar patterns,no boxplot is comparatively short or comparatively tall and this indicates similar patterns in scores in each division\n"
   ]
  },
  {
   "cell_type": "code",
   "execution_count": 7,
   "metadata": {},
   "outputs": [
    {
     "data": {
      "text/html": [
       "<div>\n",
       "<style scoped>\n",
       "    .dataframe tbody tr th:only-of-type {\n",
       "        vertical-align: middle;\n",
       "    }\n",
       "\n",
       "    .dataframe tbody tr th {\n",
       "        vertical-align: top;\n",
       "    }\n",
       "\n",
       "    .dataframe thead th {\n",
       "        text-align: right;\n",
       "    }\n",
       "</style>\n",
       "<table border=\"1\" class=\"dataframe\">\n",
       "  <thead>\n",
       "    <tr style=\"text-align: right;\">\n",
       "      <th></th>\n",
       "      <th>Division 1</th>\n",
       "      <th>Division 2</th>\n",
       "      <th>Division 3</th>\n",
       "      <th>Division 4</th>\n",
       "    </tr>\n",
       "  </thead>\n",
       "  <tbody>\n",
       "    <tr>\n",
       "      <th>2018-01-07</th>\n",
       "      <td>51</td>\n",
       "      <td>49</td>\n",
       "      <td>52</td>\n",
       "      <td>40</td>\n",
       "    </tr>\n",
       "    <tr>\n",
       "      <th>2018-01-14</th>\n",
       "      <td>43</td>\n",
       "      <td>41</td>\n",
       "      <td>35</td>\n",
       "      <td>47</td>\n",
       "    </tr>\n",
       "    <tr>\n",
       "      <th>2018-01-21</th>\n",
       "      <td>45</td>\n",
       "      <td>46</td>\n",
       "      <td>34</td>\n",
       "      <td>34</td>\n",
       "    </tr>\n",
       "    <tr>\n",
       "      <th>2018-01-28</th>\n",
       "      <td>37</td>\n",
       "      <td>41</td>\n",
       "      <td>44</td>\n",
       "      <td>44</td>\n",
       "    </tr>\n",
       "    <tr>\n",
       "      <th>2018-02-04</th>\n",
       "      <td>45</td>\n",
       "      <td>37</td>\n",
       "      <td>40</td>\n",
       "      <td>43</td>\n",
       "    </tr>\n",
       "  </tbody>\n",
       "</table>\n",
       "</div>"
      ],
      "text/plain": [
       "            Division 1  Division 2  Division 3  Division 4\n",
       "2018-01-07          51          49          52          40\n",
       "2018-01-14          43          41          35          47\n",
       "2018-01-21          45          46          34          34\n",
       "2018-01-28          37          41          44          44\n",
       "2018-02-04          45          37          40          43"
      ]
     },
     "execution_count": 7,
     "metadata": {},
     "output_type": "execute_result"
    }
   ],
   "source": [
    "# Total scores in each match for each Division,matches were played over 15 weeks in early 2018\n",
    "L1=[51,43,45,37,45,38,54,42,38,55,36,41,41,41,51]\n",
    "L2=[49,41,46,41,37,45,46,49,49,43,40,43,46,51,49]\n",
    "L3=[52,35,34,44,40,35,43,45,36,31,40,33,37,39,36]\n",
    "L4=[40,47,34,44,43,43,23,48,37,42,31,47,43,42,43]\n",
    "\n",
    "import numpy as np # import numpy [5]\n",
    "import pandas as pd # import pandas [6]\n",
    "data={'Division 1': L1, 'Division 2': L2,'Division 3': L3,'Division 4': L4}\n",
    "rng = pd.date_range('1/2/2018', periods = 15, freq = 'W') # assign week as frequency using date_range function\n",
    "dfhurl = pd.DataFrame(data,index=rng) # create dataframe\n",
    "\n",
    "# Display the first 5 games of each division\n",
    "dfhurl.head(5)"
   ]
  },
  {
   "cell_type": "code",
   "execution_count": 8,
   "metadata": {},
   "outputs": [
    {
     "data": {
      "text/html": [
       "<div>\n",
       "<style scoped>\n",
       "    .dataframe tbody tr th:only-of-type {\n",
       "        vertical-align: middle;\n",
       "    }\n",
       "\n",
       "    .dataframe tbody tr th {\n",
       "        vertical-align: top;\n",
       "    }\n",
       "\n",
       "    .dataframe thead th {\n",
       "        text-align: right;\n",
       "    }\n",
       "</style>\n",
       "<table border=\"1\" class=\"dataframe\">\n",
       "  <thead>\n",
       "    <tr style=\"text-align: right;\">\n",
       "      <th></th>\n",
       "      <th>Division 1</th>\n",
       "      <th>Division 2</th>\n",
       "      <th>Division 3</th>\n",
       "      <th>Division 4</th>\n",
       "    </tr>\n",
       "  </thead>\n",
       "  <tbody>\n",
       "    <tr>\n",
       "      <th>count</th>\n",
       "      <td>15</td>\n",
       "      <td>15</td>\n",
       "      <td>15</td>\n",
       "      <td>15</td>\n",
       "    </tr>\n",
       "    <tr>\n",
       "      <th>mean</th>\n",
       "      <td>43</td>\n",
       "      <td>45</td>\n",
       "      <td>38</td>\n",
       "      <td>40</td>\n",
       "    </tr>\n",
       "    <tr>\n",
       "      <th>std</th>\n",
       "      <td>6</td>\n",
       "      <td>4</td>\n",
       "      <td>5</td>\n",
       "      <td>6</td>\n",
       "    </tr>\n",
       "    <tr>\n",
       "      <th>min</th>\n",
       "      <td>36</td>\n",
       "      <td>37</td>\n",
       "      <td>31</td>\n",
       "      <td>23</td>\n",
       "    </tr>\n",
       "    <tr>\n",
       "      <th>25%</th>\n",
       "      <td>39</td>\n",
       "      <td>42</td>\n",
       "      <td>35</td>\n",
       "      <td>38</td>\n",
       "    </tr>\n",
       "    <tr>\n",
       "      <th>50%</th>\n",
       "      <td>42</td>\n",
       "      <td>46</td>\n",
       "      <td>37</td>\n",
       "      <td>43</td>\n",
       "    </tr>\n",
       "    <tr>\n",
       "      <th>75%</th>\n",
       "      <td>48</td>\n",
       "      <td>49</td>\n",
       "      <td>41</td>\n",
       "      <td>43</td>\n",
       "    </tr>\n",
       "    <tr>\n",
       "      <th>max</th>\n",
       "      <td>55</td>\n",
       "      <td>51</td>\n",
       "      <td>52</td>\n",
       "      <td>48</td>\n",
       "    </tr>\n",
       "  </tbody>\n",
       "</table>\n",
       "</div>"
      ],
      "text/plain": [
       "       Division 1  Division 2  Division 3  Division 4\n",
       "count          15          15          15          15\n",
       "mean           43          45          38          40\n",
       "std             6           4           5           6\n",
       "min            36          37          31          23\n",
       "25%            39          42          35          38\n",
       "50%            42          46          37          43\n",
       "75%            48          49          41          43\n",
       "max            55          51          52          48"
      ]
     },
     "execution_count": 8,
     "metadata": {},
     "output_type": "execute_result"
    }
   ],
   "source": [
    "# Summarise the key statistics from each division using the describe function from the pandas package\n",
    "# Key highlights are league 2 has lowest std and League 1 has a higher std than League 3\n",
    "\n",
    "dfhurl.describe().astype(np.int)"
   ]
  },
  {
   "cell_type": "code",
   "execution_count": 9,
   "metadata": {},
   "outputs": [
    {
     "data": {
      "image/png": "[encoded data removed]",
      "text/plain": [
       "<Figure size 432x288 with 1 Axes>"
      ]
     },
     "metadata": {},
     "output_type": "display_data"
    }
   ],
   "source": [
    "# Display each Division using the boxplot function from the package matplotlib [7]\n",
    "\n",
    "import matplotlib.pyplot as plt\n",
    "\n",
    "data=[L1, L2, L3, L4]\n",
    "plt.xlabel('League Division') # title of the x axis\n",
    "plt.xticks([1,2,3,4],['D1A', 'D1B', 'D2A', 'D2B'])# x-axis ticks using a list\n",
    "plt.ylabel('Match score') # title of the y axis\n",
    "t = plt.title('Box plot of four divisions') # title of the plot\n",
    "plt.boxplot(data) # plot the dataframes as a box plot,note that this boxplot function sorts the data points\n",
    "                  # from lowest to highest\n",
    "plt.show()"
   ]
  },
  {
   "cell_type": "markdown",
   "metadata": {},
   "source": [
    "## 2.The following displays various charts of the famous dataset Iris\n",
    "The Iris dataset consists of 50 samples from each of three species of Iris (Iris setosa, Iris virginica and Iris versicolor). Four features were measured from each sample: the length and the width of the sepals and petals, in centimeters. Based on the combination of these four features, Fisher developed a linear discriminant model to distinguish the species from each other [8].\n",
    "\n",
    "### The following are a number of key observations:\n",
    "- On one graph the 4 features of the Iris flowers can be compared easily,the length in centimeters of petal length, petal width, sepal length and sepal width\n",
    "- When comparing the 4 boxplots,the most intriguing boxplot is the sepal_width due to outliers and the short shape of the box,when outliers are excluded the variations of lengths is tiny for the middle 50% or IQR and this is aligned with sepal_width having the lowest standard deviation of .44\n",
    "- Looking at the second chart which displays the 3 different species of flowers (setosa, virginica and versicolor),the boxplots are similar in shape but the median for setosa is proportionately larger and the versicolor has no outliers\n"
   ]
  },
  {
   "cell_type": "code",
   "execution_count": 10,
   "metadata": {},
   "outputs": [
    {
     "data": {
      "image/png": "[encoded data removed]",
      "text/plain": [
       "<Figure size 576x576 with 1 Axes>"
      ]
     },
     "metadata": {},
     "output_type": "display_data"
    }
   ],
   "source": [
    "# Load the built-in Seaborn Dataset of 'Iris' data points [9]\n",
    "# Seaborn is a Python data visualization library based on matplotlib [10]\n",
    "# Below displays four features of the dataset (petal length, petal width, sepal length, sepal width)\n",
    "# Grapically a boxplt enables easy comparison between these key attributes\n",
    "\n",
    "import matplotlib.pyplot as plt\n",
    "import seaborn as sns\n",
    "plt.figure(figsize=(8,8))\n",
    "df = sns.load_dataset('iris') # create dataframe with built-in Seaborn Dataset\n",
    "sns.boxplot(data =df, width=.5, fliersize=8) # create boxplot\n",
    "plt.ylabel('centimeters') # title of the y axis\n",
    "plt.show()"
   ]
  },
  {
   "cell_type": "code",
   "execution_count": 11,
   "metadata": {},
   "outputs": [
    {
     "data": {
      "text/html": [
       "<div>\n",
       "<style scoped>\n",
       "    .dataframe tbody tr th:only-of-type {\n",
       "        vertical-align: middle;\n",
       "    }\n",
       "\n",
       "    .dataframe tbody tr th {\n",
       "        vertical-align: top;\n",
       "    }\n",
       "\n",
       "    .dataframe thead th {\n",
       "        text-align: right;\n",
       "    }\n",
       "</style>\n",
       "<table border=\"1\" class=\"dataframe\">\n",
       "  <thead>\n",
       "    <tr style=\"text-align: right;\">\n",
       "      <th></th>\n",
       "      <th>sepal_length</th>\n",
       "      <th>sepal_width</th>\n",
       "      <th>petal_length</th>\n",
       "      <th>petal_width</th>\n",
       "    </tr>\n",
       "  </thead>\n",
       "  <tbody>\n",
       "    <tr>\n",
       "      <th>count</th>\n",
       "      <td>150.00</td>\n",
       "      <td>150.00</td>\n",
       "      <td>150.00</td>\n",
       "      <td>150.00</td>\n",
       "    </tr>\n",
       "    <tr>\n",
       "      <th>mean</th>\n",
       "      <td>5.84</td>\n",
       "      <td>3.06</td>\n",
       "      <td>3.76</td>\n",
       "      <td>1.20</td>\n",
       "    </tr>\n",
       "    <tr>\n",
       "      <th>std</th>\n",
       "      <td>0.83</td>\n",
       "      <td>0.44</td>\n",
       "      <td>1.77</td>\n",
       "      <td>0.76</td>\n",
       "    </tr>\n",
       "    <tr>\n",
       "      <th>min</th>\n",
       "      <td>4.30</td>\n",
       "      <td>2.00</td>\n",
       "      <td>1.00</td>\n",
       "      <td>0.10</td>\n",
       "    </tr>\n",
       "    <tr>\n",
       "      <th>25%</th>\n",
       "      <td>5.10</td>\n",
       "      <td>2.80</td>\n",
       "      <td>1.60</td>\n",
       "      <td>0.30</td>\n",
       "    </tr>\n",
       "    <tr>\n",
       "      <th>50%</th>\n",
       "      <td>5.80</td>\n",
       "      <td>3.00</td>\n",
       "      <td>4.35</td>\n",
       "      <td>1.30</td>\n",
       "    </tr>\n",
       "    <tr>\n",
       "      <th>75%</th>\n",
       "      <td>6.40</td>\n",
       "      <td>3.30</td>\n",
       "      <td>5.10</td>\n",
       "      <td>1.80</td>\n",
       "    </tr>\n",
       "    <tr>\n",
       "      <th>max</th>\n",
       "      <td>7.90</td>\n",
       "      <td>4.40</td>\n",
       "      <td>6.90</td>\n",
       "      <td>2.50</td>\n",
       "    </tr>\n",
       "  </tbody>\n",
       "</table>\n",
       "</div>"
      ],
      "text/plain": [
       "       sepal_length  sepal_width  petal_length  petal_width\n",
       "count        150.00       150.00        150.00       150.00\n",
       "mean           5.84         3.06          3.76         1.20\n",
       "std            0.83         0.44          1.77         0.76\n",
       "min            4.30         2.00          1.00         0.10\n",
       "25%            5.10         2.80          1.60         0.30\n",
       "50%            5.80         3.00          4.35         1.30\n",
       "75%            6.40         3.30          5.10         1.80\n",
       "max            7.90         4.40          6.90         2.50"
      ]
     },
     "execution_count": 11,
     "metadata": {},
     "output_type": "execute_result"
    }
   ],
   "source": [
    "df.describe().round(2)"
   ]
  },
  {
   "cell_type": "code",
   "execution_count": 12,
   "metadata": {},
   "outputs": [
    {
     "data": {
      "image/png": "[encoded data removed]",
      "text/plain": [
       "<Figure size 576x576 with 1 Axes>"
      ]
     },
     "metadata": {},
     "output_type": "display_data"
    }
   ],
   "source": [
    "# Display the species (setosa, virginica and versicolor) that make up one of the features of the flowers\n",
    "# Looking at the first boxplot above the most intriguing is the sepal_width due to outliers and the short shape of the box \n",
    "\n",
    "plt.figure(figsize=(8,8))\n",
    "sns.boxplot( x=df[\"species\"], y=df[\"sepal_width\"], data=df )\n",
    "plt.show()"
   ]
  },
  {
   "cell_type": "markdown",
   "metadata": {},
   "source": [
    "# Key components of the boxplot\n",
    "\n",
    "Boxplots are a standardized way of displaying the distribution of data based on five key descriptive values:\n",
    "\n",
    "- minimum value that is not represented as an outlier: Q1 -1.5*IQR\n",
    "- first quartile (Q1/25th Percentile): A percentile is a\n",
    "    measure used in statistics indicating the value below which a given percentage of observations or data points in a group fall [12].\n",
    "- median : the middlemost datapoint in the distribution.The median also equates to the 50th Percentile\n",
    "- third quartile (Q3/75th Percentile): the data points between the median and the 75th percentile\n",
    "- maximum value that is not represented as an outlier: Q3 + 1.5*IQR\n",
    "\n",
    "Other components of a boxplot are [12]:\n",
    "- interquartile range (IQR): 25th to the 75th percentile,represented by the box in yellow below,the middle 50% of the distribution of the data set.\n",
    "- the upper and lower whiskers represent dats points outside the middle 50%. Whiskers often (but not always) stretch over a wider range of data points than the middle quartile group.\n",
    "- Fences are required for identifying extreme values in the tails of the distribution:\n",
    "    - lower fence(Q1 - 1.5*IQR)\n",
    "    - upper fence(Q3 + 1.5*IQR)\n",
    "- outliers (represented as X's below).They are usually treated as abnormal data points(very high or very low values).\n",
    "\n",
    "![boxplot](https://raw.githubusercontent.com/mikequaid/data/master/boxplot2.png)"
   ]
  },
  {
   "cell_type": "markdown",
   "metadata": {},
   "source": [
    "# Comparison with alternatives to the boxplot\n",
    "\n",
    "## 1.Boxplot Vs Histogram\n",
    "\n",
    "A histogram is a type of bar chart that graphically displays the frequencies of a data set.The only difference between a histogram and a bar chart is that a histogram displays frequencies for a group of data, rather than an individual data point.\n",
    "Deciding on either a Boxplot or Histogram chart depends on the type of data collected, rough analysis of data trends and purpose of the data analysis [11].It is important that either chart identifies variances among data.\n",
    "\n",
    "A histogram is preferred plot, over box plot when:\n",
    "- wide variances exist among the observed frequencies for a particular data set\n",
    "- little variance among the observed frequencies\n"
   ]
  },
  {
   "cell_type": "code",
   "execution_count": 13,
   "metadata": {},
   "outputs": [
    {
     "data": {
      "image/png": "[encoded data removed]",
      "text/plain": [
       "<Figure size 432x288 with 2 Axes>"
      ]
     },
     "metadata": {},
     "output_type": "display_data"
    }
   ],
   "source": [
    "# Compare histogram and boxplot of the Iris sepal_width \n",
    "\n",
    "plt.subplot(1,2,1)\n",
    "sns.distplot(df[\"sepal_width\"], bins=20 )\n",
    "plt.subplot(1,2,2)\n",
    "sns.boxplot( x=df[\"sepal_width\"], data=df )\n",
    "plt.show()"
   ]
  },
  {
   "cell_type": "code",
   "execution_count": 14,
   "metadata": {},
   "outputs": [
    {
     "data": {
      "image/png": "[encoded data removed]",
      "text/plain": [
       "<Figure size 432x288 with 2 Axes>"
      ]
     },
     "metadata": {},
     "output_type": "display_data"
    }
   ],
   "source": [
    "# Compare histogram and boxplot of the Iris petal_length\n",
    "\n",
    "plt.subplot(1,2,1)\n",
    "sns.distplot(df[\"petal_length\"], bins=20 )\n",
    "plt.subplot(1,2,2)\n",
    "sns.boxplot( x=df[\"petal_length\"], data=df )\n",
    "plt.show()"
   ]
  },
  {
   "cell_type": "markdown",
   "metadata": {},
   "source": [
    "## 2.Boxplot Vs Scatterplot\n",
    "\n",
    "A scatter plot (also called a scatterplot, scatter graph, scatter chart, scattergram, or scatter diagram) is a type of plot or mathematical diagram using Cartesian coordinates to display values for typically two variables for a set of data [13].\n",
    "- A scatter plot highlights the relationships between variables,it shows how much one variable is affected by another.\n",
    "- A scatter plot can be used to see if an x-value will predict a y-value.\n",
    "\n",
    "In contrast, a boxplot is better for infering distributional features.\n"
   ]
  },
  {
   "cell_type": "code",
   "execution_count": 15,
   "metadata": {},
   "outputs": [
    {
     "data": {
      "image/png": "[encoded data removed]",
      "text/plain": [
       "<Figure size 432x288 with 2 Axes>"
      ]
     },
     "metadata": {},
     "output_type": "display_data"
    },
    {
     "data": {
      "image/png": "[encoded data removed]",
      "text/plain": [
       "<Figure size 444.75x360 with 1 Axes>"
      ]
     },
     "metadata": {},
     "output_type": "display_data"
    }
   ],
   "source": [
    "# compare scatter plot and boxplot of the Iris the sepal_width\n",
    "# the following charts highlight the differences\n",
    "# scatter plot needs 2 variables to show relationship,but the boxplot displays key statistics\n",
    "\n",
    "plt.subplot(1,2,1)\n",
    "sns.boxplot( x=df[\"species\"], y=df[\"sepal_width\"], data=df )\n",
    "plt.subplot(1,2,2)\n",
    "sns.FacetGrid(df, hue=\"species\", height=5).map(plt.scatter, \"sepal_width\",\"sepal_length\").add_legend()\n",
    "plt.show()"
   ]
  },
  {
   "cell_type": "markdown",
   "metadata": {},
   "source": [
    "## 3.Boxplot Vs Swarmplot\n",
    "\n",
    "A swarmplot is a function in Seaborn that provides an alternative chart for datasets and gives a better visual overview of all the data points [14].\n"
   ]
  },
  {
   "cell_type": "code",
   "execution_count": 16,
   "metadata": {},
   "outputs": [
    {
     "data": {
      "image/png": "[encoded data removed]",
      "text/plain": [
       "<Figure size 432x288 with 2 Axes>"
      ]
     },
     "metadata": {},
     "output_type": "display_data"
    }
   ],
   "source": [
    "# compare the swarmplot and boxplot of the Iris the sepal_width\n",
    "\n",
    "plt.subplot(1,2,1)\n",
    "iris=sns.load_dataset('iris')\n",
    "sns.swarmplot(x=\"species\", y=\"sepal_width\", data=iris)\n",
    "plt.subplot(1,2,2)\n",
    "sns.boxplot( x=df[\"species\"], y=df[\"sepal_width\"], data=df )\n",
    "plt.show()"
   ]
  },
  {
   "cell_type": "markdown",
   "metadata": {},
   "source": [
    "# References:\n",
    "\n",
    "[1]  Merriam-Webster  https://www.merriam-webster.com/dictionary/quartile\n",
    "\n",
    "[2]  Encyclopædia Britannica  https://www.britannica.com/biography/John-Wilder-Tukey\n",
    "\n",
    "[3]  40 years of boxplots http://vita.had.co.nz/papers/boxplots.pdf\n",
    "\n",
    "[4]  Boxplots Dr. E.S.Jeevanand  http://esjeevanand.uccollege.edu.in/wp-content/uploads/sites/114/2015/05/Box-Plots.pdf\n",
    "\n",
    "[5]  Pandas(open source, BSD-licensed library)  https://pandas.pydata.org/pandas-docs/stable/dsintro.html\n",
    "\n",
    "[6]  NumPy(scientific computing package) https://docs.scipy.org/doc/numpy/\n",
    "\n",
    "[7]  Matplotlib(Python 2D plotting library)  https://matplotlib.org/contents.html\n",
    "\n",
    "[8]  Iris flower data-set https://en.wikipedia.org/wiki/Iris_flower_data_set\n",
    "\n",
    "[9]  Datacamp  https://www.datacamp.com/community/tutorials/seaborn-python-tutorial\n",
    "\n",
    "[10] Seaborn library https://seaborn.pydata.org\n",
    "\n",
    "[11] Bright Hub PM  https://www.brighthubpm.com/six-sigma/58254-box-plots-vs-histograms-in-project-management/\n",
    "\n",
    "[12] Engineering Statistics Handbook https://www.itl.nist.gov/div898/handbook/prc/section1/prc16.htm\n",
    "\n",
    "[13] Wiki https://en.wikipedia.org/wiki/Scatter_plot\n",
    "\n",
    "[14] Seaborn function http://seaborn.pydata.org/generated/seaborn.swarmplot.html?highlight=s"
   ]
  }
 ],
 "metadata": {
  "kernelspec": {
   "display_name": "Python 3",
   "language": "python",
   "name": "python3"
  },
  "language_info": {
   "codemirror_mode": {
    "name": "ipython",
    "version": 3
   },
   "file_extension": ".py",
   "mimetype": "text/x-python",
   "name": "python",
   "nbconvert_exporter": "python",
   "pygments_lexer": "ipython3",
   "version": "3.6.4"
  }
 },
 "nbformat": 4,
 "nbformat_minor": 2
}
